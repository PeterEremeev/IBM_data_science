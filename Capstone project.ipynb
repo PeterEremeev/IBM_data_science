{
    "cells": [
        {
            "cell_type": "markdown",
            "metadata": {
                "collapsed": true
            },
            "source": "# Capstone project\n\n1. Discussion and introduction to the business problem;\n2. Target audience;\n3. Data analysis;\n4. Results and conclusion;\n\n\n\n\n## 1. Discussion and introduction to the business problem\n\nLondon is one of the financial cities in the world, with its gross regional product of \u00a3500 bil. it forms a quarter of the UKs GDP. It also happens to be one of the most populated and diverse with it's 9.3 mil and 37% foreign born. It is a perfect place to start your business. The finance industry is located in the following districts: the City, Westminster, Canary Wharf, Camden & Islington and Lambeth & Southwark. These are the areas we will be focusing on. The idea is to open a place that serves lunch to the nearby office employees. Due to the high density of office buliding the flow of customers would be colossal.\n\nFurther in the project we will look at the current available restaurants in the areas, it's speciality and condensity using the Forsquare application, projecting it on to the map for a more convenient view. Based on the analysis, we will detemine the indicators that will allow to make a decission on the future joint.\n\n## 2. Target audience\n\n1. Investors looking to open a new restaurant;\n2. Office workers looking for a place to eat in;\n3. Restaurant owners in the areas to check for competitors;\n\n\n"
        },
        {
            "cell_type": "code",
            "execution_count": null,
            "metadata": {},
            "outputs": [],
            "source": ""
        }
    ],
    "metadata": {
        "kernelspec": {
            "display_name": "Python 3.6",
            "language": "python",
            "name": "python3"
        },
        "language_info": {
            "codemirror_mode": {
                "name": "ipython",
                "version": 3
            },
            "file_extension": ".py",
            "mimetype": "text/x-python",
            "name": "python",
            "nbconvert_exporter": "python",
            "pygments_lexer": "ipython3",
            "version": "3.6.9"
        }
    },
    "nbformat": 4,
    "nbformat_minor": 1
}